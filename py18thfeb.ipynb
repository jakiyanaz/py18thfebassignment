{
 "cells": [
  {
   "cell_type": "markdown",
   "id": "31c3fa9b-81e7-4687-be71-c19a2d778dde",
   "metadata": {},
   "source": [
    "Q1. What is an API? Give an example, where an API is used in real life."
   ]
  },
  {
   "cell_type": "markdown",
   "id": "f905ef1f-dac5-4e20-bbe4-5331afe8fbda",
   "metadata": {},
   "source": [
    "Ans: What is an API?\n",
    "APIs are mechanisms that enable two software components to communicate with each other using a set of definitions and protocols. For example, the weather bureau's software system contains daily weather data. The weather app on your phone “talks” to this system via APIs and shows you daily weather updates on your phone."
   ]
  },
  {
   "cell_type": "markdown",
   "id": "bcc02b5e-77a1-46c2-b78b-f5bb5f6b3d55",
   "metadata": {},
   "source": [
    "Q2. Give advantages and disadvantages of using API."
   ]
  },
  {
   "cell_type": "markdown",
   "id": "8fd67375-c88c-43a8-a376-d93174465e94",
   "metadata": {},
   "source": [
    "Ans:\n",
    "\n",
    "   1.Advantages:\n",
    "   \n",
    "        *REST API is easy to understand and learn, due to its simplicity, known API.\n",
    "        \n",
    "        *With REST API, being able to organize complicated applications & makes it easy to use resources.\n",
    "        \n",
    "        *The high load can be managed with help out of HTTP proxy server & cache.\n",
    "        \n",
    "        *REST API is easy to explore and discover.\n",
    "        \n",
    "        *It makes it simple for new clients to work on other applications, whether it is designed specifically for purpose or not.\n",
    "        \n",
    "        *Use standard HTTP procedure call- outs to retrieve data and requests.\n",
    "        \n",
    "        *REST API depends on codes, can use it to synchronize data with a website without any complications.\n",
    "        \n",
    "        *Users can avail access to the same standard objects and data model when compared to SOAP-based web services.\n",
    "        \n",
    "        *Brings flexibility formats by serializing data in XML or JSON format.\n",
    "        \n",
    "        *Allows Standard-based protection with the use of OAuth protocols to verify your REST requests.\n",
    "    \n",
    "    2.Disadvantages:\n",
    "        *Lack of state: most web applications require stateful mechanisms. Suppose you purchase a website which has a mechanism to have a shopping cart. It is required to know the number of items in the shopping cart before the actual purchase is made. This burden of maintaining the state lies on the client, which makes the client application heavy and difficult to maintain.\n",
    "        \n",
    "        *Lack of security: REST doest impose security such as SOAP. That is the reason REST is appropriate for public URLs, but it is not good for confidential data passage between client and server. "
   ]
  },
  {
   "cell_type": "markdown",
   "id": "ce293755-4cb0-4fe5-ab56-9d1d343140e3",
   "metadata": {},
   "source": [
    "Q3. What is a Web API? Differentiate between API and Web API."
   ]
  },
  {
   "cell_type": "markdown",
   "id": "732276bc-ba6e-4870-8782-9a45e3b94369",
   "metadata": {},
   "source": [
    "Ans: \n",
    "\n",
    "    API: API stands for Application Programming Interface. API is actually some kind of interface which is having a set of functions. These set of functions will allow programmers to acquire some specific features or the data of an application. \n",
    "\n",
    "    Web API: is an API as the name suggests, it can be accessed over the web using the HTTP protocol. It is a framework that helps you to create and develop HTTP based RESTFUL services. The web API can be developed by using different technologies such as java, ASP.NET, etc. Web API is used in either a web server or a web browser."
   ]
  },
  {
   "cell_type": "markdown",
   "id": "755b8221-dedf-4460-8373-88e5f2359c49",
   "metadata": {},
   "source": [
    "Q4. Explain REST and SOAP Architecture. Mention shortcomings of SOAP."
   ]
  },
  {
   "cell_type": "markdown",
   "id": "49c6c83a-c281-4d87-a510-b7fa2a7902eb",
   "metadata": {},
   "source": [
    "Ans:\n",
    "\n",
    "    REST architecture: Generally transports data in JSON. It is based on URI. Because REST follows stateless model, REST does not enforces message format as XML or JSON etc.\n",
    "    \n",
    "    SOAP architecture: Transports data in standard XML format.\n",
    "    \n",
    "    shortcomings of SOAP:\n",
    "        1. API Calls are not Cached\n",
    "        2. Extremely Complicated\n",
    "        3. No Choice of Data Formats\n",
    "        4. Requires More Bandwidth"
   ]
  },
  {
   "cell_type": "markdown",
   "id": "f2584fc0-d05e-4d21-8626-a0dd69e4d2f0",
   "metadata": {},
   "source": [
    "Q5. Differentiate between REST and SOAP."
   ]
  },
  {
   "cell_type": "markdown",
   "id": "f8c8af42-a7f4-42a1-be55-552adb40eaab",
   "metadata": {},
   "source": [
    "Ans:\n",
    "\n",
    "    SOAP API:\n",
    "    \n",
    "        1. Relies on SOAP (Simple Object Access Protocol)\n",
    "        2. Transports data in standard XML format.\n",
    "        3. Because it is XML based and relies on SOAP, it works with WSDL\n",
    "        4. Works over HTTP, HTTPS, SMTP, XMPP\n",
    "        5. Highly structured/typed\n",
    "        6. Designed with large enterprise applications in mind\n",
    "        \n",
    "    REST API:\n",
    "        1. Relies on REST (Representational State Transfer) architecture using HTTP.\n",
    "        2. Generally transports data in JSON. It is based on URI. Because REST follows stateless model, REST does not enforces message format as XML or JSON etc.\n",
    "        3. It works with GET, POST, PUT, DELETE\n",
    "        4. Works over HTTP and HTTPS\n",
    "        5. Less structured -> less bulky data\n",
    "        6. Designed with mobile devices in mind"
   ]
  },
  {
   "cell_type": "code",
   "execution_count": null,
   "id": "4f4032ea-3661-4297-895c-475739a35c9a",
   "metadata": {},
   "outputs": [],
   "source": []
  }
 ],
 "metadata": {
  "kernelspec": {
   "display_name": "Python 3 (ipykernel)",
   "language": "python",
   "name": "python3"
  },
  "language_info": {
   "codemirror_mode": {
    "name": "ipython",
    "version": 3
   },
   "file_extension": ".py",
   "mimetype": "text/x-python",
   "name": "python",
   "nbconvert_exporter": "python",
   "pygments_lexer": "ipython3",
   "version": "3.10.8"
  }
 },
 "nbformat": 4,
 "nbformat_minor": 5
}
